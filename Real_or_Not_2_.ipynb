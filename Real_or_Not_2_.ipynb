{
  "nbformat": 4,
  "nbformat_minor": 0,
  "metadata": {
    "colab": {
      "name": "Real or Not 2?.ipynb",
      "provenance": []
    },
    "kernelspec": {
      "name": "python3",
      "display_name": "Python 3"
    }
  },
  "cells": [
    {
      "cell_type": "code",
      "metadata": {
        "id": "m_t5yoOSKu7U",
        "colab_type": "code",
        "colab": {}
      },
      "source": [
        ""
      ],
      "execution_count": 0,
      "outputs": []
    },
    {
      "cell_type": "code",
      "metadata": {
        "id": "44ObOdPkLEe-",
        "colab_type": "code",
        "colab": {
          "base_uri": "https://localhost:8080/",
          "height": 992
        },
        "outputId": "7027a9dc-fb02-43e8-a444-f61ec4d51efb"
      },
      "source": [
        "#!pip install ktrain\n",
        "!pip install --upgrade tensorflow"
      ],
      "execution_count": 3,
      "outputs": [
        {
          "output_type": "stream",
          "text": [
            "Collecting tensorflow\n",
            "\u001b[?25l  Downloading https://files.pythonhosted.org/packages/85/d4/c0cd1057b331bc38b65478302114194bd8e1b9c2bbc06e300935c0e93d90/tensorflow-2.1.0-cp36-cp36m-manylinux2010_x86_64.whl (421.8MB)\n",
            "\u001b[K     |████████████████████████████████| 421.8MB 38kB/s \n",
            "\u001b[?25hRequirement already satisfied, skipping upgrade: wheel>=0.26; python_version >= \"3\" in /usr/local/lib/python3.6/dist-packages (from tensorflow) (0.34.2)\n",
            "Requirement already satisfied, skipping upgrade: astor>=0.6.0 in /usr/local/lib/python3.6/dist-packages (from tensorflow) (0.8.1)\n",
            "Requirement already satisfied, skipping upgrade: keras-applications>=1.0.8 in /usr/local/lib/python3.6/dist-packages (from tensorflow) (1.0.8)\n",
            "Collecting tensorboard<2.2.0,>=2.1.0\n",
            "\u001b[?25l  Downloading https://files.pythonhosted.org/packages/d9/41/bbf49b61370e4f4d245d4c6051dfb6db80cec672605c91b1652ac8cc3d38/tensorboard-2.1.1-py3-none-any.whl (3.8MB)\n",
            "\u001b[K     |████████████████████████████████| 3.9MB 21.2MB/s \n",
            "\u001b[?25hRequirement already satisfied, skipping upgrade: keras-preprocessing>=1.1.0 in /usr/local/lib/python3.6/dist-packages (from tensorflow) (1.1.0)\n",
            "Requirement already satisfied, skipping upgrade: opt-einsum>=2.3.2 in /usr/local/lib/python3.6/dist-packages (from tensorflow) (3.1.0)\n",
            "Requirement already satisfied, skipping upgrade: gast==0.2.2 in /usr/local/lib/python3.6/dist-packages (from tensorflow) (0.2.2)\n",
            "Requirement already satisfied, skipping upgrade: grpcio>=1.8.6 in /usr/local/lib/python3.6/dist-packages (from tensorflow) (1.27.1)\n",
            "Requirement already satisfied, skipping upgrade: google-pasta>=0.1.6 in /usr/local/lib/python3.6/dist-packages (from tensorflow) (0.1.8)\n",
            "Requirement already satisfied, skipping upgrade: six>=1.12.0 in /usr/local/lib/python3.6/dist-packages (from tensorflow) (1.12.0)\n",
            "Requirement already satisfied, skipping upgrade: numpy<2.0,>=1.16.0 in /usr/local/lib/python3.6/dist-packages (from tensorflow) (1.17.5)\n",
            "Collecting tensorflow-estimator<2.2.0,>=2.1.0rc0\n",
            "\u001b[?25l  Downloading https://files.pythonhosted.org/packages/18/90/b77c328a1304437ab1310b463e533fa7689f4bfc41549593056d812fab8e/tensorflow_estimator-2.1.0-py2.py3-none-any.whl (448kB)\n",
            "\u001b[K     |████████████████████████████████| 450kB 51.5MB/s \n",
            "\u001b[?25hRequirement already satisfied, skipping upgrade: termcolor>=1.1.0 in /usr/local/lib/python3.6/dist-packages (from tensorflow) (1.1.0)\n",
            "Requirement already satisfied, skipping upgrade: wrapt>=1.11.1 in /usr/local/lib/python3.6/dist-packages (from tensorflow) (1.11.2)\n",
            "Requirement already satisfied, skipping upgrade: protobuf>=3.8.0 in /usr/local/lib/python3.6/dist-packages (from tensorflow) (3.10.0)\n",
            "Requirement already satisfied, skipping upgrade: scipy==1.4.1; python_version >= \"3\" in /usr/local/lib/python3.6/dist-packages (from tensorflow) (1.4.1)\n",
            "Requirement already satisfied, skipping upgrade: absl-py>=0.7.0 in /usr/local/lib/python3.6/dist-packages (from tensorflow) (0.9.0)\n",
            "Requirement already satisfied, skipping upgrade: h5py in /usr/local/lib/python3.6/dist-packages (from keras-applications>=1.0.8->tensorflow) (2.8.0)\n",
            "Requirement already satisfied, skipping upgrade: setuptools>=41.0.0 in /usr/local/lib/python3.6/dist-packages (from tensorboard<2.2.0,>=2.1.0->tensorflow) (45.2.0)\n",
            "Requirement already satisfied, skipping upgrade: requests<3,>=2.21.0 in /usr/local/lib/python3.6/dist-packages (from tensorboard<2.2.0,>=2.1.0->tensorflow) (2.21.0)\n",
            "Requirement already satisfied, skipping upgrade: werkzeug>=0.11.15 in /usr/local/lib/python3.6/dist-packages (from tensorboard<2.2.0,>=2.1.0->tensorflow) (1.0.0)\n",
            "Requirement already satisfied, skipping upgrade: markdown>=2.6.8 in /usr/local/lib/python3.6/dist-packages (from tensorboard<2.2.0,>=2.1.0->tensorflow) (3.2.1)\n",
            "Requirement already satisfied, skipping upgrade: google-auth-oauthlib<0.5,>=0.4.1 in /usr/local/lib/python3.6/dist-packages (from tensorboard<2.2.0,>=2.1.0->tensorflow) (0.4.1)\n",
            "Requirement already satisfied, skipping upgrade: google-auth<2,>=1.6.3 in /usr/local/lib/python3.6/dist-packages (from tensorboard<2.2.0,>=2.1.0->tensorflow) (1.7.2)\n",
            "Requirement already satisfied, skipping upgrade: chardet<3.1.0,>=3.0.2 in /usr/local/lib/python3.6/dist-packages (from requests<3,>=2.21.0->tensorboard<2.2.0,>=2.1.0->tensorflow) (3.0.4)\n",
            "Requirement already satisfied, skipping upgrade: certifi>=2017.4.17 in /usr/local/lib/python3.6/dist-packages (from requests<3,>=2.21.0->tensorboard<2.2.0,>=2.1.0->tensorflow) (2019.11.28)\n",
            "Requirement already satisfied, skipping upgrade: idna<2.9,>=2.5 in /usr/local/lib/python3.6/dist-packages (from requests<3,>=2.21.0->tensorboard<2.2.0,>=2.1.0->tensorflow) (2.8)\n",
            "Requirement already satisfied, skipping upgrade: urllib3<1.25,>=1.21.1 in /usr/local/lib/python3.6/dist-packages (from requests<3,>=2.21.0->tensorboard<2.2.0,>=2.1.0->tensorflow) (1.24.3)\n",
            "Requirement already satisfied, skipping upgrade: requests-oauthlib>=0.7.0 in /usr/local/lib/python3.6/dist-packages (from google-auth-oauthlib<0.5,>=0.4.1->tensorboard<2.2.0,>=2.1.0->tensorflow) (1.3.0)\n",
            "Requirement already satisfied, skipping upgrade: cachetools<3.2,>=2.0.0 in /usr/local/lib/python3.6/dist-packages (from google-auth<2,>=1.6.3->tensorboard<2.2.0,>=2.1.0->tensorflow) (3.1.1)\n",
            "Requirement already satisfied, skipping upgrade: pyasn1-modules>=0.2.1 in /usr/local/lib/python3.6/dist-packages (from google-auth<2,>=1.6.3->tensorboard<2.2.0,>=2.1.0->tensorflow) (0.2.8)\n",
            "Requirement already satisfied, skipping upgrade: rsa<4.1,>=3.1.4 in /usr/local/lib/python3.6/dist-packages (from google-auth<2,>=1.6.3->tensorboard<2.2.0,>=2.1.0->tensorflow) (4.0)\n",
            "Requirement already satisfied, skipping upgrade: oauthlib>=3.0.0 in /usr/local/lib/python3.6/dist-packages (from requests-oauthlib>=0.7.0->google-auth-oauthlib<0.5,>=0.4.1->tensorboard<2.2.0,>=2.1.0->tensorflow) (3.1.0)\n",
            "Requirement already satisfied, skipping upgrade: pyasn1<0.5.0,>=0.4.6 in /usr/local/lib/python3.6/dist-packages (from pyasn1-modules>=0.2.1->google-auth<2,>=1.6.3->tensorboard<2.2.0,>=2.1.0->tensorflow) (0.4.8)\n",
            "Installing collected packages: tensorboard, tensorflow-estimator, tensorflow\n",
            "  Found existing installation: tensorboard 1.15.0\n",
            "    Uninstalling tensorboard-1.15.0:\n",
            "      Successfully uninstalled tensorboard-1.15.0\n",
            "  Found existing installation: tensorflow-estimator 1.15.1\n",
            "    Uninstalling tensorflow-estimator-1.15.1:\n",
            "      Successfully uninstalled tensorflow-estimator-1.15.1\n",
            "  Found existing installation: tensorflow 1.15.0\n",
            "    Uninstalling tensorflow-1.15.0:\n",
            "      Successfully uninstalled tensorflow-1.15.0\n",
            "Successfully installed tensorboard-2.1.1 tensorflow-2.1.0 tensorflow-estimator-2.1.0\n"
          ],
          "name": "stdout"
        },
        {
          "output_type": "display_data",
          "data": {
            "application/vnd.colab-display-data+json": {
              "pip_warning": {
                "packages": [
                  "tensorboard",
                  "tensorflow",
                  "tensorflow_core",
                  "tensorflow_estimator"
                ]
              }
            }
          },
          "metadata": {
            "tags": []
          }
        }
      ]
    },
    {
      "cell_type": "code",
      "metadata": {
        "id": "zPiixKQc-3_V",
        "colab_type": "code",
        "outputId": "b6583fbc-e2e7-4e90-cb80-bd68206b4540",
        "colab": {
          "base_uri": "https://localhost:8080/",
          "height": 33
        }
      },
      "source": [
        "import pandas as pd\n",
        "import numpy as np\n",
        "import ktrain\n",
        "from ktrain import text\n",
        "import re"
      ],
      "execution_count": 1,
      "outputs": [
        {
          "output_type": "stream",
          "text": [
            "using Keras version: 2.2.4-tf\n"
          ],
          "name": "stdout"
        }
      ]
    },
    {
      "cell_type": "code",
      "metadata": {
        "id": "DY2UQRXQK3L4",
        "colab_type": "code",
        "colab": {}
      },
      "source": [
        "train=pd.read_csv(\"/content/drive/My Drive/tweeter/train.csv\")\n",
        "test=pd.read_csv(\"/content/drive/My Drive/tweeter/test.csv\")\n",
        "sub=pd.read_csv(\"/content/drive/My Drive/tweeter/sample_submission.csv\")"
      ],
      "execution_count": 0,
      "outputs": []
    },
    {
      "cell_type": "code",
      "metadata": {
        "id": "E5FmODCDMU-R",
        "colab_type": "code",
        "outputId": "4b743e13-fac9-4457-853f-8d05a01fe200",
        "colab": {
          "base_uri": "https://localhost:8080/",
          "height": 217
        }
      },
      "source": [
        "train.info()"
      ],
      "execution_count": 0,
      "outputs": [
        {
          "output_type": "stream",
          "text": [
            "<class 'pandas.core.frame.DataFrame'>\n",
            "RangeIndex: 7613 entries, 0 to 7612\n",
            "Data columns (total 5 columns):\n",
            " #   Column    Non-Null Count  Dtype \n",
            "---  ------    --------------  ----- \n",
            " 0   id        7613 non-null   int64 \n",
            " 1   keyword   7552 non-null   object\n",
            " 2   location  5080 non-null   object\n",
            " 3   text      7613 non-null   object\n",
            " 4   target    7613 non-null   int64 \n",
            "dtypes: int64(2), object(3)\n",
            "memory usage: 297.5+ KB\n"
          ],
          "name": "stdout"
        }
      ]
    },
    {
      "cell_type": "code",
      "metadata": {
        "id": "VG7uS28_AGTL",
        "colab_type": "code",
        "colab": {}
      },
      "source": [
        "target=train[\"target\"]"
      ],
      "execution_count": 0,
      "outputs": []
    },
    {
      "cell_type": "code",
      "metadata": {
        "id": "lO0-LQzhAGhF",
        "colab_type": "code",
        "colab": {}
      },
      "source": [
        "train.drop('target',1,inplace=True)\n",
        "train_test_data = train.append(test)\n",
        "train_test_data.reset_index(inplace=True)"
      ],
      "execution_count": 0,
      "outputs": []
    },
    {
      "cell_type": "code",
      "metadata": {
        "id": "tGNoUFrDAGs2",
        "colab_type": "code",
        "colab": {}
      },
      "source": [
        "def remove_URL(text):\n",
        "    url = re.compile(r'https?://\\S+|www\\.\\S+')\n",
        "    return url.sub(r'',text)"
      ],
      "execution_count": 0,
      "outputs": []
    },
    {
      "cell_type": "code",
      "metadata": {
        "id": "m-ZZ_rkWAG5c",
        "colab_type": "code",
        "colab": {}
      },
      "source": [
        "train_test_data['text']=train_test_data['text'].apply(lambda x : remove_URL(x))"
      ],
      "execution_count": 0,
      "outputs": []
    },
    {
      "cell_type": "code",
      "metadata": {
        "id": "JmewEa8vAHIO",
        "colab_type": "code",
        "colab": {}
      },
      "source": [
        "def remove_html(text):\n",
        "    html=re.compile(r'<.*?>')\n",
        "    return html.sub(r'',text)"
      ],
      "execution_count": 0,
      "outputs": []
    },
    {
      "cell_type": "code",
      "metadata": {
        "id": "7TmjC2lwAHOi",
        "colab_type": "code",
        "colab": {}
      },
      "source": [
        "def remove_emoji(text):\n",
        "    emoji_pattern = re.compile(\"[\"\n",
        "                           u\"\\U0001F600-\\U0001F64F\"  # emoticons\n",
        "                           u\"\\U0001F300-\\U0001F5FF\"  # symbols & pictographs\n",
        "                           u\"\\U0001F680-\\U0001F6FF\"  # transport & map symbols\n",
        "                           u\"\\U0001F1E0-\\U0001F1FF\"  # flags (iOS)\n",
        "                           u\"\\U00002702-\\U000027B0\"\n",
        "                           u\"\\U000024C2-\\U0001F251\"\n",
        "                           \"]+\", flags=re.UNICODE)\n",
        "    return emoji_pattern.sub(r'', text)"
      ],
      "execution_count": 0,
      "outputs": []
    },
    {
      "cell_type": "code",
      "metadata": {
        "id": "dEnD5Y9fBOuU",
        "colab_type": "code",
        "colab": {}
      },
      "source": [
        "train_test_data['text']=train_test_data['text'].apply(lambda x: remove_emoji(x))"
      ],
      "execution_count": 0,
      "outputs": []
    },
    {
      "cell_type": "code",
      "metadata": {
        "id": "Sx1l_PF3BO5r",
        "colab_type": "code",
        "colab": {}
      },
      "source": [
        "import string\n",
        "def remove_punct(text):\n",
        "    table=str.maketrans('','',string.punctuation)\n",
        "    return text.translate(table)"
      ],
      "execution_count": 0,
      "outputs": []
    },
    {
      "cell_type": "code",
      "metadata": {
        "id": "5rSf_MNIBPJI",
        "colab_type": "code",
        "colab": {}
      },
      "source": [
        "train_test_data['text']=train_test_data['text'].apply(lambda x: remove_punct(x))"
      ],
      "execution_count": 0,
      "outputs": []
    },
    {
      "cell_type": "code",
      "metadata": {
        "id": "QSd_rJjeBPiY",
        "colab_type": "code",
        "colab": {}
      },
      "source": [
        "train_test_data[\"text\"]=train_test_data[\"text\"].apply(lambda x: ' '.join([w for w in x.split() if len(w)>3]))"
      ],
      "execution_count": 0,
      "outputs": []
    },
    {
      "cell_type": "code",
      "metadata": {
        "id": "RMAkFlw2B18J",
        "colab_type": "code",
        "outputId": "e7f8fafd-43c0-44ba-db6e-77fde28df4bb",
        "colab": {
          "base_uri": "https://localhost:8080/",
          "height": 50
        }
      },
      "source": [
        "import nltk\n",
        "nltk.download('stopwords')\n",
        "from nltk.corpus import stopwords \n",
        "stop_words = set(stopwords.words('english')) "
      ],
      "execution_count": 0,
      "outputs": [
        {
          "output_type": "stream",
          "text": [
            "[nltk_data] Downloading package stopwords to /root/nltk_data...\n",
            "[nltk_data]   Unzipping corpora/stopwords.zip.\n"
          ],
          "name": "stdout"
        }
      ]
    },
    {
      "cell_type": "code",
      "metadata": {
        "id": "Y2sHnxT6BPwM",
        "colab_type": "code",
        "colab": {}
      },
      "source": [
        "def small_case(text):\n",
        "  text=re.sub(\"\\s\\s+\" , \" \",text)\n",
        "  pattern = '[0-9]'\n",
        "  text=re.sub(pattern,'', text)\n",
        "  text = ' '.join(e for e in text.split() if e not in stop_words)#seprate the tokans and remove the stop words\n",
        "  text=text.lower()\n",
        "  return text\n"
      ],
      "execution_count": 0,
      "outputs": []
    },
    {
      "cell_type": "code",
      "metadata": {
        "id": "rNZyDyKFBQA-",
        "colab_type": "code",
        "colab": {}
      },
      "source": [
        "train_test_data['text']=train_test_data['text'].apply(lambda x: small_case(x))"
      ],
      "execution_count": 0,
      "outputs": []
    },
    {
      "cell_type": "code",
      "metadata": {
        "id": "bm4CFbuMBP4N",
        "colab_type": "code",
        "colab": {}
      },
      "source": [
        "final_Train=train_test_data.iloc[:7613,:]\n",
        "final_Test=train_test_data.iloc[7613:,:]"
      ],
      "execution_count": 0,
      "outputs": []
    },
    {
      "cell_type": "code",
      "metadata": {
        "id": "L96nSmADCqiG",
        "colab_type": "code",
        "colab": {}
      },
      "source": [
        "Train_data=pd.DataFrame()\n",
        "Train_data[\"text\"]=final_Train[\"text\"]\n",
        "Train_data[\"target\"]=target"
      ],
      "execution_count": 0,
      "outputs": []
    },
    {
      "cell_type": "code",
      "metadata": {
        "id": "cHyhHPvABPae",
        "colab_type": "code",
        "outputId": "4e8ffdb1-1ae2-4bf8-c1a3-fb33ba6211b8",
        "colab": {
          "base_uri": "https://localhost:8080/",
          "height": 196
        }
      },
      "source": [
        "Train_data.head()"
      ],
      "execution_count": 0,
      "outputs": [
        {
          "output_type": "execute_result",
          "data": {
            "text/html": [
              "<div>\n",
              "<style scoped>\n",
              "    .dataframe tbody tr th:only-of-type {\n",
              "        vertical-align: middle;\n",
              "    }\n",
              "\n",
              "    .dataframe tbody tr th {\n",
              "        vertical-align: top;\n",
              "    }\n",
              "\n",
              "    .dataframe thead th {\n",
              "        text-align: right;\n",
              "    }\n",
              "</style>\n",
              "<table border=\"1\" class=\"dataframe\">\n",
              "  <thead>\n",
              "    <tr style=\"text-align: right;\">\n",
              "      <th></th>\n",
              "      <th>text</th>\n",
              "      <th>target</th>\n",
              "    </tr>\n",
              "  </thead>\n",
              "  <tbody>\n",
              "    <tr>\n",
              "      <th>0</th>\n",
              "      <td>deeds reason earthquake allah forgive</td>\n",
              "      <td>1</td>\n",
              "    </tr>\n",
              "    <tr>\n",
              "      <th>1</th>\n",
              "      <td>forest fire near ronge sask canada</td>\n",
              "      <td>1</td>\n",
              "    </tr>\n",
              "    <tr>\n",
              "      <th>2</th>\n",
              "      <td>residents asked shelter place notified officer...</td>\n",
              "      <td>1</td>\n",
              "    </tr>\n",
              "    <tr>\n",
              "      <th>3</th>\n",
              "      <td>people receive wildfires evacuation orders cal...</td>\n",
              "      <td>1</td>\n",
              "    </tr>\n",
              "    <tr>\n",
              "      <th>4</th>\n",
              "      <td>just sent photo ruby alaska smoke wildfires po...</td>\n",
              "      <td>1</td>\n",
              "    </tr>\n",
              "  </tbody>\n",
              "</table>\n",
              "</div>"
            ],
            "text/plain": [
              "                                                text  target\n",
              "0              deeds reason earthquake allah forgive       1\n",
              "1                 forest fire near ronge sask canada       1\n",
              "2  residents asked shelter place notified officer...       1\n",
              "3  people receive wildfires evacuation orders cal...       1\n",
              "4  just sent photo ruby alaska smoke wildfires po...       1"
            ]
          },
          "metadata": {
            "tags": []
          },
          "execution_count": 57
        }
      ]
    },
    {
      "cell_type": "code",
      "metadata": {
        "id": "03UeClApK3bC",
        "colab_type": "code",
        "outputId": "88de03e3-9d8a-47d5-d4bd-74f79c93e6d7",
        "colab": {
          "base_uri": "https://localhost:8080/",
          "height": 538
        }
      },
      "source": [
        "#DATA_PATH = '/content/drive/My Drive/tweeter/train.csv'\n",
        "\n",
        "NUM_WORDS = 50000\n",
        "MAXLEN = 150\n",
        "(x_train, y_train), (x_test, y_test), preproc = text.texts_from_df(Train_data, \n",
        "                                                                   'text', # name of column containing review text\n",
        "                                                                   label_columns=[\"target\"],\n",
        "                                                                   maxlen=200, \n",
        "                                                                   max_features=50000,\n",
        "                                                                   ngram_range=3)"
      ],
      "execution_count": 0,
      "outputs": [
        {
          "output_type": "stream",
          "text": [
            "language: en\n",
            "Word Counts: 14976\n",
            "Nrows: 6851\n",
            "6851 train sequences\n",
            "train sequence lengths:\n",
            "\tmean : 8\n",
            "\t95percentile : 13\n",
            "\t99percentile : 15\n",
            "Adding 3-gram features\n",
            "max_features changed to 122379 with addition of ngrams\n",
            "Average train sequence length with ngrams: 21\n",
            "train (w/ngrams) sequence lengths:\n",
            "\tmean : 21\n",
            "\t95percentile : 36\n",
            "\t99percentile : 42\n",
            "x_train shape: (6851,200)\n",
            "y_train shape: (6851, 2)\n",
            "762 test sequences\n",
            "test sequence lengths:\n",
            "\tmean : 7\n",
            "\t95percentile : 12\n",
            "\t99percentile : 13\n",
            "Average test sequence length with ngrams: 10\n",
            "test (w/ngrams) sequence lengths:\n",
            "\tmean : 11\n",
            "\t95percentile : 27\n",
            "\t99percentile : 34\n",
            "x_test shape: (762,200)\n",
            "y_test shape: (762, 2)\n"
          ],
          "name": "stdout"
        },
        {
          "output_type": "execute_result",
          "data": {
            "text/plain": [
              "'(x_train, y_train), (x_test, y_test), preproc = text.texts_from_df(DATA_PATH,\\n                      \\'text\\',\\n                      label_columns = [\"target\"],\\n                      val_filepath=None, # if None, 10% of data will be used for validation\\n                      max_features=NUM_WORDS, maxlen=MAXLEN,\\n                      ngram_range=1)'"
            ]
          },
          "metadata": {
            "tags": []
          },
          "execution_count": 83
        }
      ]
    },
    {
      "cell_type": "code",
      "metadata": {
        "id": "6R7cae0OOmsm",
        "colab_type": "code",
        "outputId": "abaa1b9f-5e63-48e8-db25-22812f2f46ae",
        "colab": {
          "base_uri": "https://localhost:8080/",
          "height": 134
        }
      },
      "source": [
        "text.print_text_classifiers()"
      ],
      "execution_count": 0,
      "outputs": [
        {
          "output_type": "stream",
          "text": [
            "fasttext: a fastText-like model [http://arxiv.org/pdf/1607.01759.pdf]\n",
            "logreg: logistic regression using a trainable Embedding layer\n",
            "nbsvm: NBSVM model [http://www.aclweb.org/anthology/P12-2018]\n",
            "bigru: Bidirectional GRU with pretrained word vectors [https://arxiv.org/abs/1712.09405]\n",
            "standard_gru: simple 2-layer GRU with randomly initialized embeddings\n",
            "bert: Bidirectional Encoder Representations from Transformers (BERT) [https://arxiv.org/abs/1810.04805]\n",
            "distilbert: distilled, smaller, and faster BERT from Hugging Face [https://arxiv.org/abs/1910.01108]\n"
          ],
          "name": "stdout"
        }
      ]
    },
    {
      "cell_type": "code",
      "metadata": {
        "id": "wzIdPgFkK3nX",
        "colab_type": "code",
        "outputId": "b5b2497d-3dec-415e-e40b-b1f36ce81d05",
        "colab": {
          "base_uri": "https://localhost:8080/",
          "height": 84
        }
      },
      "source": [
        "model = text.text_classifier('fasttext', (x_train, y_train), \n",
        "                             preproc=preproc)\n",
        "learner = ktrain.get_learner(model, train_data=(x_train, y_train), val_data=(x_test, y_test),batch_size=6)"
      ],
      "execution_count": 0,
      "outputs": [
        {
          "output_type": "stream",
          "text": [
            "Is Multi-Label? False\n",
            "compiling word ID features...\n",
            "maxlen is 200\n",
            "done.\n"
          ],
          "name": "stdout"
        }
      ]
    },
    {
      "cell_type": "code",
      "metadata": {
        "id": "jp95IWFIK30j",
        "colab_type": "code",
        "outputId": "900728bc-1957-41eb-f81c-9130d0bc0e55",
        "colab": {
          "base_uri": "https://localhost:8080/",
          "height": 187
        }
      },
      "source": [
        "learner.lr_find()"
      ],
      "execution_count": 0,
      "outputs": [
        {
          "output_type": "stream",
          "text": [
            "simulating training for different learning rates... this may take a few moments...\n",
            "Train on 6851 samples\n",
            "Epoch 1/1024\n",
            "6851/6851 [==============================] - 96s 14ms/sample - loss: 1.0079 - accuracy: 0.4830\n",
            "Epoch 2/1024\n",
            "2838/6851 [===========>..................] - ETA: 55s - loss: 1.7582 - accuracy: 0.5518\n",
            "\n",
            "done.\n",
            "Please invoke the Learner.lr_plot() method to visually inspect the loss plot to help identify the maximal learning rate associated with falling loss.\n"
          ],
          "name": "stdout"
        }
      ]
    },
    {
      "cell_type": "code",
      "metadata": {
        "id": "qwuuiMJfK3-3",
        "colab_type": "code",
        "outputId": "f7957705-650a-4388-c67e-3a2745f2dd49",
        "colab": {
          "base_uri": "https://localhost:8080/",
          "height": 283
        }
      },
      "source": [
        "learner.lr_plot()"
      ],
      "execution_count": 0,
      "outputs": [
        {
          "output_type": "display_data",
          "data": {
            "image/png": "[encoded data removed]",
            "text/plain": [
              "<Figure size 432x288 with 1 Axes>"
            ]
          },
          "metadata": {
            "tags": []
          }
        }
      ]
    },
    {
      "cell_type": "code",
      "metadata": {
        "id": "pI-LRfRslxXU",
        "colab_type": "code",
        "colab": {}
      },
      "source": [
        ""
      ],
      "execution_count": 0,
      "outputs": []
    },
    {
      "cell_type": "code",
      "metadata": {
        "id": "_iJdY_aoPNQ2",
        "colab_type": "code",
        "outputId": "17a1e553-27cd-4f51-fe16-5d7b304a13e9",
        "colab": {
          "base_uri": "https://localhost:8080/",
          "height": 538
        }
      },
      "source": [
        "learner.fit(0.0001, 3, cycle_len=2, cycle_mult=2)"
      ],
      "execution_count": 0,
      "outputs": [
        {
          "output_type": "stream",
          "text": [
            "Train on 6851 samples, validate on 762 samples\n",
            "Epoch 1/14\n",
            "6851/6851 [==============================] - 96s 14ms/sample - loss: 0.1104 - accuracy: 0.9609 - val_loss: 1.1925 - val_accuracy: 0.8163\n",
            "Epoch 2/14\n",
            "6851/6851 [==============================] - 96s 14ms/sample - loss: 0.1040 - accuracy: 0.9616 - val_loss: 1.1969 - val_accuracy: 0.8150\n",
            "Epoch 3/14\n",
            "6851/6851 [==============================] - 96s 14ms/sample - loss: 0.0956 - accuracy: 0.9631 - val_loss: 1.2310 - val_accuracy: 0.8123\n",
            "Epoch 4/14\n",
            "6851/6851 [==============================] - 96s 14ms/sample - loss: 0.0967 - accuracy: 0.9663 - val_loss: 1.2868 - val_accuracy: 0.8058\n",
            "Epoch 5/14\n",
            "6851/6851 [==============================] - 96s 14ms/sample - loss: 0.1049 - accuracy: 0.9615 - val_loss: 1.2418 - val_accuracy: 0.8084\n",
            "Epoch 6/14\n",
            "6851/6851 [==============================] - 97s 14ms/sample - loss: 0.1040 - accuracy: 0.9618 - val_loss: 1.2041 - val_accuracy: 0.8136\n",
            "Epoch 7/14\n",
            "6851/6851 [==============================] - 98s 14ms/sample - loss: 0.0941 - accuracy: 0.9673 - val_loss: 1.1809 - val_accuracy: 0.8150\n",
            "Epoch 8/14\n",
            "6851/6851 [==============================] - 98s 14ms/sample - loss: 0.0987 - accuracy: 0.9628 - val_loss: 1.1588 - val_accuracy: 0.8150\n",
            "Epoch 9/14\n",
            "6851/6851 [==============================] - 97s 14ms/sample - loss: 0.1029 - accuracy: 0.9606 - val_loss: 1.1868 - val_accuracy: 0.8163\n",
            "Epoch 10/14\n",
            "6851/6851 [==============================] - 97s 14ms/sample - loss: 0.1002 - accuracy: 0.9619 - val_loss: 1.2049 - val_accuracy: 0.8150\n",
            "Epoch 11/14\n",
            "6851/6851 [==============================] - 96s 14ms/sample - loss: 0.0863 - accuracy: 0.9638 - val_loss: 1.2139 - val_accuracy: 0.8163\n",
            "Epoch 12/14\n",
            "6851/6851 [==============================] - 96s 14ms/sample - loss: 0.0852 - accuracy: 0.9701 - val_loss: 1.2018 - val_accuracy: 0.8163\n",
            "Epoch 13/14\n",
            "6851/6851 [==============================] - 97s 14ms/sample - loss: 0.0905 - accuracy: 0.9670 - val_loss: 1.2149 - val_accuracy: 0.8136\n",
            "Epoch 14/14\n",
            "6851/6851 [==============================] - 97s 14ms/sample - loss: 0.1021 - accuracy: 0.9618 - val_loss: 1.2243 - val_accuracy: 0.8163\n"
          ],
          "name": "stdout"
        },
        {
          "output_type": "execute_result",
          "data": {
            "text/plain": [
              "<tensorflow.python.keras.callbacks.History at 0x7f8c751fd0f0>"
            ]
          },
          "metadata": {
            "tags": []
          },
          "execution_count": 93
        }
      ]
    },
    {
      "cell_type": "code",
      "metadata": {
        "id": "KfryWFVPlv-7",
        "colab_type": "code",
        "colab": {}
      },
      "source": [
        ""
      ],
      "execution_count": 0,
      "outputs": []
    },
    {
      "cell_type": "code",
      "metadata": {
        "id": "7m2QncE5PNcM",
        "colab_type": "code",
        "colab": {}
      },
      "source": [
        "predictor = ktrain.get_predictor(learner.model, preproc)"
      ],
      "execution_count": 0,
      "outputs": []
    },
    {
      "cell_type": "code",
      "metadata": {
        "id": "Ho19X705Pp4b",
        "colab_type": "code",
        "outputId": "926d1ef8-8714-48ed-956f-4a13efe6aca3",
        "colab": {
          "base_uri": "https://localhost:8080/",
          "height": 196
        }
      },
      "source": [
        ".head()"
      ],
      "execution_count": 0,
      "outputs": [
        {
          "output_type": "execute_result",
          "data": {
            "text/html": [
              "<div>\n",
              "<style scoped>\n",
              "    .dataframe tbody tr th:only-of-type {\n",
              "        vertical-align: middle;\n",
              "    }\n",
              "\n",
              "    .dataframe tbody tr th {\n",
              "        vertical-align: top;\n",
              "    }\n",
              "\n",
              "    .dataframe thead th {\n",
              "        text-align: right;\n",
              "    }\n",
              "</style>\n",
              "<table border=\"1\" class=\"dataframe\">\n",
              "  <thead>\n",
              "    <tr style=\"text-align: right;\">\n",
              "      <th></th>\n",
              "      <th>index</th>\n",
              "      <th>id</th>\n",
              "      <th>keyword</th>\n",
              "      <th>location</th>\n",
              "      <th>text</th>\n",
              "    </tr>\n",
              "  </thead>\n",
              "  <tbody>\n",
              "    <tr>\n",
              "      <th>7613</th>\n",
              "      <td>0</td>\n",
              "      <td>0</td>\n",
              "      <td>NaN</td>\n",
              "      <td>NaN</td>\n",
              "      <td>just happened terrible crash</td>\n",
              "    </tr>\n",
              "    <tr>\n",
              "      <th>7614</th>\n",
              "      <td>1</td>\n",
              "      <td>2</td>\n",
              "      <td>NaN</td>\n",
              "      <td>NaN</td>\n",
              "      <td>heard earthquake different cities stay safe ev...</td>\n",
              "    </tr>\n",
              "    <tr>\n",
              "      <th>7615</th>\n",
              "      <td>2</td>\n",
              "      <td>3</td>\n",
              "      <td>NaN</td>\n",
              "      <td>NaN</td>\n",
              "      <td>forest fire spot pond geese fleeing across str...</td>\n",
              "    </tr>\n",
              "    <tr>\n",
              "      <th>7616</th>\n",
              "      <td>3</td>\n",
              "      <td>9</td>\n",
              "      <td>NaN</td>\n",
              "      <td>NaN</td>\n",
              "      <td>apocalypse lighting spokane wildfires</td>\n",
              "    </tr>\n",
              "    <tr>\n",
              "      <th>7617</th>\n",
              "      <td>4</td>\n",
              "      <td>11</td>\n",
              "      <td>NaN</td>\n",
              "      <td>NaN</td>\n",
              "      <td>typhoon soudelor kills china taiwan</td>\n",
              "    </tr>\n",
              "  </tbody>\n",
              "</table>\n",
              "</div>"
            ],
            "text/plain": [
              "      index  id  ... location                                               text\n",
              "7613      0   0  ...      NaN                       just happened terrible crash\n",
              "7614      1   2  ...      NaN  heard earthquake different cities stay safe ev...\n",
              "7615      2   3  ...      NaN  forest fire spot pond geese fleeing across str...\n",
              "7616      3   9  ...      NaN              apocalypse lighting spokane wildfires\n",
              "7617      4  11  ...      NaN                typhoon soudelor kills china taiwan\n",
              "\n",
              "[5 rows x 5 columns]"
            ]
          },
          "metadata": {
            "tags": []
          },
          "execution_count": 97
        }
      ]
    },
    {
      "cell_type": "code",
      "metadata": {
        "id": "-L6ejWnoPNmW",
        "colab_type": "code",
        "colab": {}
      },
      "source": [
        "pred=predictor.predict(list(final_Test[\"text\"]))"
      ],
      "execution_count": 0,
      "outputs": []
    },
    {
      "cell_type": "code",
      "metadata": {
        "id": "q5TFX0yaPNuK",
        "colab_type": "code",
        "colab": {}
      },
      "source": [
        "df_output = pd.DataFrame()\n",
        "df_output['id'] =test[\"id\"]\n",
        "df_output['target'] =pred\n",
        "df_output[['id','target']].to_csv('/content/drive/My Drive/tweeter/sub_2.1.csv',index=False)"
      ],
      "execution_count": 0,
      "outputs": []
    },
    {
      "cell_type": "code",
      "metadata": {
        "id": "y1Uprir4uJFE",
        "colab_type": "code",
        "colab": {}
      },
      "source": [
        ""
      ],
      "execution_count": 0,
      "outputs": []
    },
    {
      "cell_type": "code",
      "metadata": {
        "id": "uFZkytUIuJRg",
        "colab_type": "code",
        "outputId": "21afad8c-9aa1-4745-db14-78ad4dac5912",
        "colab": {
          "base_uri": "https://localhost:8080/",
          "height": 134
        }
      },
      "source": [
        "model_2 = text.text_classifier('nbsvm', (x_train, y_train), \n",
        "                             preproc=preproc)\n",
        "learner_2 = ktrain.get_learner(model_2, train_data=(x_train, y_train), val_data=(x_test, y_test),batch_size=6)"
      ],
      "execution_count": 0,
      "outputs": [
        {
          "output_type": "stream",
          "text": [
            "Is Multi-Label? False\n",
            "compiling word ID features...\n",
            "maxlen is 200\n",
            "building document-term matrix... this may take a few moments...\n",
            "rows: 1-6851\n",
            "computing log-count ratios...\n",
            "done.\n"
          ],
          "name": "stdout"
        }
      ]
    },
    {
      "cell_type": "code",
      "metadata": {
        "id": "BbW_yJzuuJcQ",
        "colab_type": "code",
        "outputId": "bd34fd2d-1a03-4758-89cd-03f670da7abd",
        "colab": {
          "base_uri": "https://localhost:8080/",
          "height": 187
        }
      },
      "source": [
        "learner_2.lr_find()"
      ],
      "execution_count": 0,
      "outputs": [
        {
          "output_type": "stream",
          "text": [
            "simulating training for different learning rates... this may take a few moments...\n",
            "Train on 6851 samples\n",
            "Epoch 1/1024\n",
            "6851/6851 [==============================] - 5s 681us/sample - loss: 0.6677 - accuracy: 0.5914\n",
            "Epoch 2/1024\n",
            "2250/6851 [========>.....................] - ETA: 2s - loss: 0.8129 - accuracy: 0.8036\n",
            "\n",
            "done.\n",
            "Please invoke the Learner.lr_plot() method to visually inspect the loss plot to help identify the maximal learning rate associated with falling loss.\n"
          ],
          "name": "stdout"
        }
      ]
    },
    {
      "cell_type": "code",
      "metadata": {
        "id": "ptuIZO1QuJpP",
        "colab_type": "code",
        "outputId": "c3b272e1-7af0-4c42-c09d-408fa6e79864",
        "colab": {
          "base_uri": "https://localhost:8080/",
          "height": 187
        }
      },
      "source": [
        "learner_2.lr_find()"
      ],
      "execution_count": 0,
      "outputs": [
        {
          "output_type": "stream",
          "text": [
            "simulating training for different learning rates... this may take a few moments...\n",
            "Train on 6851 samples\n",
            "Epoch 1/1024\n",
            "6851/6851 [==============================] - 4s 621us/sample - loss: 0.6680 - accuracy: 0.6027\n",
            "Epoch 2/1024\n",
            "2244/6851 [========>.....................] - ETA: 2s - loss: 0.7372 - accuracy: 0.8097\n",
            "\n",
            "done.\n",
            "Please invoke the Learner.lr_plot() method to visually inspect the loss plot to help identify the maximal learning rate associated with falling loss.\n"
          ],
          "name": "stdout"
        }
      ]
    },
    {
      "cell_type": "code",
      "metadata": {
        "id": "x1Bs8phwuJza",
        "colab_type": "code",
        "outputId": "83b20a6e-9334-41ec-b46b-e823ef1f26e2",
        "colab": {
          "base_uri": "https://localhost:8080/",
          "height": 283
        }
      },
      "source": [
        "learner_2.lr_plot()"
      ],
      "execution_count": 0,
      "outputs": [
        {
          "output_type": "display_data",
          "data": {
            "image/png": "[encoded data removed]",
            "text/plain": [
              "<Figure size 432x288 with 1 Axes>"
            ]
          },
          "metadata": {
            "tags": []
          }
        }
      ]
    },
    {
      "cell_type": "code",
      "metadata": {
        "id": "aGRxwfSNuJmu",
        "colab_type": "code",
        "outputId": "4c572610-102a-4811-ddbe-c197d8a3ae8a",
        "colab": {
          "base_uri": "https://localhost:8080/",
          "height": 538
        }
      },
      "source": [
        "learner_2.fit(0.01, 3, cycle_len=2, cycle_mult=2)"
      ],
      "execution_count": 0,
      "outputs": [
        {
          "output_type": "stream",
          "text": [
            "Train on 6851 samples, validate on 762 samples\n",
            "Epoch 1/14\n",
            "6851/6851 [==============================] - 4s 596us/sample - loss: 0.4530 - accuracy: 0.7968 - val_loss: 0.4641 - val_accuracy: 0.8110\n",
            "Epoch 2/14\n",
            "6851/6851 [==============================] - 4s 623us/sample - loss: 0.0914 - accuracy: 0.9758 - val_loss: 0.4636 - val_accuracy: 0.8136\n",
            "Epoch 3/14\n",
            "6851/6851 [==============================] - 4s 599us/sample - loss: 0.1105 - accuracy: 0.9677 - val_loss: 0.5044 - val_accuracy: 0.8110\n",
            "Epoch 4/14\n",
            "6851/6851 [==============================] - 4s 623us/sample - loss: 0.0745 - accuracy: 0.9742 - val_loss: 0.5152 - val_accuracy: 0.7992\n",
            "Epoch 5/14\n",
            "6851/6851 [==============================] - 4s 629us/sample - loss: 0.0511 - accuracy: 0.9801 - val_loss: 0.5234 - val_accuracy: 0.8031\n",
            "Epoch 6/14\n",
            "6851/6851 [==============================] - 4s 604us/sample - loss: 0.0399 - accuracy: 0.9850 - val_loss: 0.5272 - val_accuracy: 0.8031\n",
            "Epoch 7/14\n",
            "6851/6851 [==============================] - 4s 610us/sample - loss: 0.0783 - accuracy: 0.9752 - val_loss: 0.6076 - val_accuracy: 0.7966\n",
            "Epoch 8/14\n",
            "6851/6851 [==============================] - 4s 607us/sample - loss: 0.0662 - accuracy: 0.9765 - val_loss: 0.6409 - val_accuracy: 0.7927\n",
            "Epoch 9/14\n",
            "6851/6851 [==============================] - 4s 594us/sample - loss: 0.0527 - accuracy: 0.9790 - val_loss: 0.6913 - val_accuracy: 0.7900\n",
            "Epoch 10/14\n",
            "6851/6851 [==============================] - 4s 617us/sample - loss: 0.0480 - accuracy: 0.9781 - val_loss: 0.7134 - val_accuracy: 0.7913\n",
            "Epoch 11/14\n",
            "6851/6851 [==============================] - 4s 624us/sample - loss: 0.0395 - accuracy: 0.9810 - val_loss: 0.7322 - val_accuracy: 0.7874\n",
            "Epoch 12/14\n",
            "6851/6851 [==============================] - 4s 613us/sample - loss: 0.0337 - accuracy: 0.9831 - val_loss: 0.7473 - val_accuracy: 0.7913\n",
            "Epoch 13/14\n",
            "6851/6851 [==============================] - 4s 611us/sample - loss: 0.0295 - accuracy: 0.9845 - val_loss: 0.7547 - val_accuracy: 0.7900\n",
            "Epoch 14/14\n",
            "6851/6851 [==============================] - 5s 687us/sample - loss: 0.0272 - accuracy: 0.9857 - val_loss: 0.7559 - val_accuracy: 0.7900\n"
          ],
          "name": "stdout"
        },
        {
          "output_type": "execute_result",
          "data": {
            "text/plain": [
              "<tensorflow.python.keras.callbacks.History at 0x7f8c921a1240>"
            ]
          },
          "metadata": {
            "tags": []
          },
          "execution_count": 105
        }
      ]
    },
    {
      "cell_type": "code",
      "metadata": {
        "id": "HyqcEwhButWH",
        "colab_type": "code",
        "outputId": "348b700c-a2f0-467e-868b-b5f1643250db",
        "colab": {
          "base_uri": "https://localhost:8080/",
          "height": 538
        }
      },
      "source": [
        "learner_2.fit(0.0001, 3, cycle_len=2, cycle_mult=2)"
      ],
      "execution_count": 0,
      "outputs": [
        {
          "output_type": "stream",
          "text": [
            "Train on 6851 samples, validate on 762 samples\n",
            "Epoch 1/14\n",
            "6851/6851 [==============================] - 4s 654us/sample - loss: 0.0261 - accuracy: 0.9861 - val_loss: 0.8965 - val_accuracy: 0.7913\n",
            "Epoch 2/14\n",
            "6851/6851 [==============================] - 4s 630us/sample - loss: 0.0259 - accuracy: 0.9867 - val_loss: 0.8970 - val_accuracy: 0.7913\n",
            "Epoch 3/14\n",
            "6851/6851 [==============================] - 4s 624us/sample - loss: 0.0261 - accuracy: 0.9863 - val_loss: 0.8990 - val_accuracy: 0.7913\n",
            "Epoch 4/14\n",
            "6851/6851 [==============================] - 4s 630us/sample - loss: 0.0260 - accuracy: 0.9863 - val_loss: 0.9004 - val_accuracy: 0.7913\n",
            "Epoch 5/14\n",
            "6851/6851 [==============================] - 4s 610us/sample - loss: 0.0259 - accuracy: 0.9866 - val_loss: 0.9012 - val_accuracy: 0.7913\n",
            "Epoch 6/14\n",
            "6851/6851 [==============================] - 4s 620us/sample - loss: 0.0258 - accuracy: 0.9867 - val_loss: 0.9013 - val_accuracy: 0.7913\n",
            "Epoch 7/14\n",
            "6851/6851 [==============================] - 4s 645us/sample - loss: 0.0261 - accuracy: 0.9861 - val_loss: 0.9034 - val_accuracy: 0.7913\n",
            "Epoch 8/14\n",
            "6851/6851 [==============================] - 4s 613us/sample - loss: 0.0261 - accuracy: 0.9857 - val_loss: 0.9053 - val_accuracy: 0.7913\n",
            "Epoch 9/14\n",
            "6851/6851 [==============================] - 4s 603us/sample - loss: 0.0260 - accuracy: 0.9863 - val_loss: 0.9069 - val_accuracy: 0.7913\n",
            "Epoch 10/14\n",
            "6851/6851 [==============================] - 4s 608us/sample - loss: 0.0260 - accuracy: 0.9866 - val_loss: 0.9082 - val_accuracy: 0.7913\n",
            "Epoch 11/14\n",
            "6851/6851 [==============================] - 5s 657us/sample - loss: 0.0259 - accuracy: 0.9864 - val_loss: 0.9090 - val_accuracy: 0.7913\n",
            "Epoch 12/14\n",
            "6851/6851 [==============================] - 5s 665us/sample - loss: 0.0258 - accuracy: 0.9866 - val_loss: 0.9095 - val_accuracy: 0.7913\n",
            "Epoch 13/14\n",
            "6851/6851 [==============================] - 4s 629us/sample - loss: 0.0258 - accuracy: 0.9867 - val_loss: 0.9097 - val_accuracy: 0.7913\n",
            "Epoch 14/14\n",
            "6851/6851 [==============================] - 4s 622us/sample - loss: 0.0258 - accuracy: 0.9867 - val_loss: 0.9097 - val_accuracy: 0.7913\n"
          ],
          "name": "stdout"
        },
        {
          "output_type": "execute_result",
          "data": {
            "text/plain": [
              "<tensorflow.python.keras.callbacks.History at 0x7f8c91ba1cc0>"
            ]
          },
          "metadata": {
            "tags": []
          },
          "execution_count": 107
        }
      ]
    }
  ]
}